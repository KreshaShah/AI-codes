{
  "nbformat": 4,
  "nbformat_minor": 0,
  "metadata": {
    "colab": {
      "provenance": []
    },
    "kernelspec": {
      "name": "python3",
      "display_name": "Python 3"
    },
    "language_info": {
      "name": "python"
    }
  },
  "cells": [
    {
      "cell_type": "code",
      "execution_count": null,
      "metadata": {
        "id": "_2zNevu4QpHk"
      },
      "outputs": [],
      "source": [
        "class Graph:\n",
        "  def __init__(self, graph, heuristicNodeList, startNode):\n",
        "    self.graph = graph\n",
        "    self.H=heuristicNodeList\n",
        "    self.start=startNode\n",
        "    self.parent={}\n",
        "    self.status={}\n",
        "    self.solutionGraph={}\n",
        "  def applyAOStar(self): # starts a recursive AO* algorithm\n",
        "    self.aoStar(self.start, False)\n",
        "  def getNeighbors(self, v): # gets the Neighbors of a given node\n",
        "    return self.graph.get(v,'')\n",
        "  def getStatus(self,v): # return the status of a given node\n",
        "    return self.status.get(v,0)\n",
        "  def setStatus(self,v, val): # set the status of a given node\n",
        "    self.status[v]=val\n",
        "  def getHeuristicNodeValue(self, n):\n",
        "    return self.H.get(n,0) # always return the heuristic value of a given node\n",
        "  def setHeuristicNodeValue(self, n, value):\n",
        "    self.H[n]=value # set the revised heuristic value of a given node\n",
        "  def printSolution(self):\n",
        "    print(\"FOR GRAPH SOLUTION, TRAVERSE THE GRAPH FROM THE START NODE:\",self.start)\n",
        "    print(\"------------------------------------------------------------\")\n",
        "    print(self.solutionGraph)\n",
        "    print(\"------------------------------------------------------------\")\n",
        "  def computeMinimumCostChildNodes(self, v):\n",
        "    minimumCost=0\n",
        "    costToChildNodeListDict={}\n",
        "    costToChildNodeListDict[minimumCost]=[]\n",
        "    flag=True\n",
        "    for nodeInfoTupleList in self.getNeighbors(v):\n",
        "      cost=0\n",
        "      nodeList=[]\n",
        "      for c, weight in nodeInfoTupleList:\n",
        "        cost=cost+self.getHeuristicNodeValue(c)+weight\n",
        "        nodeList.append(c)\n",
        "      if flag==True:\n",
        "        minimumCost=cost\n",
        "        costToChildNodeListDict[minimumCost]=nodeList\n",
        "        flag=False\n",
        "      else: # checking the Minimum Cost nodes with the current Minimum Cost\n",
        "        if minimumCost>cost:\n",
        "          minimumCost=cost\n",
        "          costToChildNodeListDict[minimumCost]=nodeList\n",
        "    return minimumCost, costToChildNodeListDict[minimumCost]\n",
        "  def aoStar(self, v, backTracking):\n",
        "    print(\"HEURISTIC VALUES :\", self.H)\n",
        "    print(\"SOLUTION GRAPH :\", self.solutionGraph)\n",
        "    print(\"PROCESSING NODE :\", v)\n",
        "    print(\"-----------------------------------------------------------------------------------------\")\n",
        "    if self.getStatus(v) >= 0:\n",
        "      minimumCost, childNodeList = self.computeMinimumCostChildNodes(v)\n",
        "      print(minimumCost, childNodeList)\n",
        "      self.setHeuristicNodeValue(v, minimumCost)\n",
        "      self.setStatus(v,len(childNodeList))\n",
        "      solved=True # check the Minimum Cost nodes of v are solved\n",
        "      for childNode in childNodeList:\n",
        "        self.parent[childNode]=v\n",
        "        if self.getStatus(childNode)!=-1:\n",
        "          solved=solved & False\n",
        "      if solved==True:\n",
        "        self.setStatus(v,-1)\n",
        "        self.solutionGraph[v]=childNodeList\n",
        "      if v!=self.start:\n",
        "        self.aoStar(self.parent[v], True) # backtracking the current node value with backtracking status set to true\n",
        "      if backTracking==False: # check the current call is not for backtracking\n",
        "        for childNode in childNodeList: # for each Minimum Cost child node\n",
        "          self.setStatus(childNode,0) # set the status of child node to 0(needs exploration)\n",
        "          self.aoStar(childNode, False) # Minimum Cost child node is further explored with backtracking status as false"
      ]
    },
    {
      "cell_type": "code",
      "source": [
        "leaf_nodes = {'Train':2200, 'Bus':2000, 'Air':7000,'Stay1':8000, 'Meal1':4000, 'Package1':14000, 'Stay2':10000, 'Meal2':5000, 'Package2':15000, 'Stay3':12000, 'Meal3':6000, 'Package3':18000,'Cook':2000, 'Cost of VV1':30000, 'Eat outside':3000, 'Cost of VV2':30000}\n",
        "graph_1 = {'Plan a trip' : [[('Travel', 0), ('Hotel', 0)], [('Vanity Van', 100)]],'Travel':[[('Train', 4090)], [('Bus', 1180)], [('Air', 4050)]],'Hotel Book':[[('A', 600)], [('B', 1340)], [('C', 4030)]],'Vanity Van':[[('Cook', 0), ('Cost of VV1', 0)], [('Eat outside', 0), ('Cost of VV2', 0)]],\n",
        "'A':[[('Stay1', 0), ('Meal1', 0)], [('Package1', 0)]],\n",
        "'B':[[('Stay2', 0), ('Meal2', 0)], [('Package2', 0)]],\n",
        "'C':[[('Stay3', 0), ('Meal3', 0)], [('Package3', 0)]]\n",
        "}"
      ],
      "metadata": {
        "id": "HyiQCZc6W1N9"
      },
      "execution_count": null,
      "outputs": []
    },
    {
      "cell_type": "code",
      "source": [
        "G1= Graph(graph_1, leaf_nodes, 'Plan a trip')\n",
        "G1.applyAOStar()\n",
        "G1.printSolution()"
      ],
      "metadata": {
        "colab": {
          "base_uri": "https://localhost:8080/"
        },
        "id": "0VfsqMCVXWqF",
        "outputId": "d31917d3-2a52-4976-c275-a6f1300b415e"
      },
      "execution_count": null,
      "outputs": [
        {
          "output_type": "stream",
          "name": "stdout",
          "text": [
            "HEURISTIC VALUES : {'Train': 2200, 'Bus': 2000, 'Air': 7000, 'Stay1': 8000, 'Meal1': 4000, 'Package1': 14000, 'Stay2': 10000, 'Meal2': 5000, 'Package2': 15000, 'Stay3': 12000, 'Meal3': 6000, 'Package3': 18000, 'Cook': 2000, 'Cost of VV1': 30000, 'Eat outside': 3000, 'Cost of VV2': 30000}\n",
            "SOLUTION GRAPH : {}\n",
            "PROCESSING NODE : Plan a trip\n",
            "-----------------------------------------------------------------------------------------\n",
            "0 ['Travel', 'Hotel']\n",
            "HEURISTIC VALUES : {'Train': 2200, 'Bus': 2000, 'Air': 7000, 'Stay1': 8000, 'Meal1': 4000, 'Package1': 14000, 'Stay2': 10000, 'Meal2': 5000, 'Package2': 15000, 'Stay3': 12000, 'Meal3': 6000, 'Package3': 18000, 'Cook': 2000, 'Cost of VV1': 30000, 'Eat outside': 3000, 'Cost of VV2': 30000, 'Plan a trip': 0}\n",
            "SOLUTION GRAPH : {}\n",
            "PROCESSING NODE : Travel\n",
            "-----------------------------------------------------------------------------------------\n",
            "3180 ['Bus']\n",
            "HEURISTIC VALUES : {'Train': 2200, 'Bus': 2000, 'Air': 7000, 'Stay1': 8000, 'Meal1': 4000, 'Package1': 14000, 'Stay2': 10000, 'Meal2': 5000, 'Package2': 15000, 'Stay3': 12000, 'Meal3': 6000, 'Package3': 18000, 'Cook': 2000, 'Cost of VV1': 30000, 'Eat outside': 3000, 'Cost of VV2': 30000, 'Plan a trip': 0, 'Travel': 3180}\n",
            "SOLUTION GRAPH : {}\n",
            "PROCESSING NODE : Plan a trip\n",
            "-----------------------------------------------------------------------------------------\n",
            "100 ['Vanity Van']\n",
            "HEURISTIC VALUES : {'Train': 2200, 'Bus': 2000, 'Air': 7000, 'Stay1': 8000, 'Meal1': 4000, 'Package1': 14000, 'Stay2': 10000, 'Meal2': 5000, 'Package2': 15000, 'Stay3': 12000, 'Meal3': 6000, 'Package3': 18000, 'Cook': 2000, 'Cost of VV1': 30000, 'Eat outside': 3000, 'Cost of VV2': 30000, 'Plan a trip': 100, 'Travel': 3180}\n",
            "SOLUTION GRAPH : {}\n",
            "PROCESSING NODE : Bus\n",
            "-----------------------------------------------------------------------------------------\n",
            "0 []\n",
            "HEURISTIC VALUES : {'Train': 2200, 'Bus': 0, 'Air': 7000, 'Stay1': 8000, 'Meal1': 4000, 'Package1': 14000, 'Stay2': 10000, 'Meal2': 5000, 'Package2': 15000, 'Stay3': 12000, 'Meal3': 6000, 'Package3': 18000, 'Cook': 2000, 'Cost of VV1': 30000, 'Eat outside': 3000, 'Cost of VV2': 30000, 'Plan a trip': 100, 'Travel': 3180}\n",
            "SOLUTION GRAPH : {'Bus': []}\n",
            "PROCESSING NODE : Travel\n",
            "-----------------------------------------------------------------------------------------\n",
            "1180 ['Bus']\n",
            "HEURISTIC VALUES : {'Train': 2200, 'Bus': 0, 'Air': 7000, 'Stay1': 8000, 'Meal1': 4000, 'Package1': 14000, 'Stay2': 10000, 'Meal2': 5000, 'Package2': 15000, 'Stay3': 12000, 'Meal3': 6000, 'Package3': 18000, 'Cook': 2000, 'Cost of VV1': 30000, 'Eat outside': 3000, 'Cost of VV2': 30000, 'Plan a trip': 100, 'Travel': 1180}\n",
            "SOLUTION GRAPH : {'Bus': [], 'Travel': ['Bus']}\n",
            "PROCESSING NODE : Plan a trip\n",
            "-----------------------------------------------------------------------------------------\n",
            "100 ['Vanity Van']\n",
            "HEURISTIC VALUES : {'Train': 2200, 'Bus': 0, 'Air': 7000, 'Stay1': 8000, 'Meal1': 4000, 'Package1': 14000, 'Stay2': 10000, 'Meal2': 5000, 'Package2': 15000, 'Stay3': 12000, 'Meal3': 6000, 'Package3': 18000, 'Cook': 2000, 'Cost of VV1': 30000, 'Eat outside': 3000, 'Cost of VV2': 30000, 'Plan a trip': 100, 'Travel': 1180}\n",
            "SOLUTION GRAPH : {'Bus': [], 'Travel': ['Bus']}\n",
            "PROCESSING NODE : Hotel\n",
            "-----------------------------------------------------------------------------------------\n",
            "0 []\n",
            "HEURISTIC VALUES : {'Train': 2200, 'Bus': 0, 'Air': 7000, 'Stay1': 8000, 'Meal1': 4000, 'Package1': 14000, 'Stay2': 10000, 'Meal2': 5000, 'Package2': 15000, 'Stay3': 12000, 'Meal3': 6000, 'Package3': 18000, 'Cook': 2000, 'Cost of VV1': 30000, 'Eat outside': 3000, 'Cost of VV2': 30000, 'Plan a trip': 100, 'Travel': 1180, 'Hotel': 0}\n",
            "SOLUTION GRAPH : {'Bus': [], 'Travel': ['Bus'], 'Hotel': []}\n",
            "PROCESSING NODE : Plan a trip\n",
            "-----------------------------------------------------------------------------------------\n",
            "100 ['Vanity Van']\n",
            "FOR GRAPH SOLUTION, TRAVERSE THE GRAPH FROM THE START NODE: Plan a trip\n",
            "------------------------------------------------------------\n",
            "{'Bus': [], 'Travel': ['Bus'], 'Hotel': []}\n",
            "------------------------------------------------------------\n"
          ]
        }
      ]
    }
  ]
}